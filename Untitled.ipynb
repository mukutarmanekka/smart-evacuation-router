{
 "cells": [
  {
   "cell_type": "code",
   "execution_count": null,
   "id": "e20ddc6b-953f-4be4-98d9-edb33538cd69",
   "metadata": {},
   "outputs": [],
   "source": []
  }
 ],
 "metadata": {
  "kernelspec": {
   "display_name": "",
   "name": ""
  },
  "language_info": {
   "name": ""
  }
 },
 "nbformat": 4,
 "nbformat_minor": 5
}
